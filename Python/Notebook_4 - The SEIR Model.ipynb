{
 "cells": [
  {
   "cell_type": "markdown",
   "metadata": {},
   "source": [
    "# Notebook_4 - The SEIR Model"
   ]
  },
  {
   "cell_type": "markdown",
   "metadata": {},
   "source": [
    "### Import needed packages"
   ]
  },
  {
   "cell_type": "code",
   "execution_count": 23,
   "metadata": {},
   "outputs": [],
   "source": [
    "import numpy as np\n",
    "import matplotlib.pyplot as plt\n",
    "# let's set things up so we have nice font sizes\n",
    "plt.rcParams.update({'font.size': 12})"
   ]
  },
  {
   "cell_type": "markdown",
   "metadata": {},
   "source": [
    "### Goals"
   ]
  },
  {
   "cell_type": "markdown",
   "metadata": {},
   "source": [
    "We want to explore numerical solutions to the SEIR Model."
   ]
  },
  {
   "cell_type": "markdown",
   "metadata": {},
   "source": [
    "# An SEIR Model\n",
    "I've implemented the SEIR equations in a simple (Euler) method. \n",
    "\n",
    "**Inputs**: \n",
    "- initial conditions (S0,E0,I0,R0) \n",
    "- params (alpha, beta, gamma)\n",
    "- t a vector of evenly spaced times that you want to integrate over\n",
    "\n",
    "**Outputs**:\n",
    "- A tuple of (S,E,I,R) at the time points in t"
   ]
  },
  {
   "cell_type": "code",
   "execution_count": 46,
   "metadata": {},
   "outputs": [],
   "source": [
    "def SEIR(initial_conditions, params, t):\n",
    "    '''\n",
    "    This function forward integrates a basic SEIR model and returns S,E,I,R arrays.\n",
    "    \n",
    "    initial_conditions, a 4-tuple (S0, E0, I0, R0) with initial counts in compartments\n",
    "    params, a 4-tuple (alpha,beta,gamma) with parameters:\n",
    "        alpha, E->I symptom onset rate\n",
    "        beta, infection rate per S-I contact\n",
    "        gamma, I->R recovery rate\n",
    "        rho, social distancing parameter 0≤rho≤1\n",
    "    t, an array of timepoints, ASSUMED TO BE EQUALLY SPACED. \n",
    "    \n",
    "    Returns a numpy array of S, E, I, and R arrays. \n",
    "    '''\n",
    "    S0, E0, I0, R0 = initial_conditions\n",
    "    S, E, I, R = [S0], [E0], [I0], [R0]\n",
    "    alpha, beta, gamma, rho = params\n",
    "    dt = t[1] - t[0]\n",
    "    for _ in t[1:]:\n",
    "        St = S[-1] - (beta*S[-1]*rho*I[-1])*dt\n",
    "        Et = E[-1] + (beta*S[-1]*rho*I[-1] - alpha*E[-1])*dt\n",
    "        It = I[-1] + (alpha*E[-1] - gamma*I[-1])*dt\n",
    "        Rt = R[-1] + (gamma*I[-1])*dt\n",
    "        S.append(St)\n",
    "        E.append(Et)\n",
    "        I.append(It)\n",
    "        R.append(Rt)\n",
    "    return S, E, I, R"
   ]
  },
  {
   "cell_type": "code",
   "execution_count": 56,
   "metadata": {},
   "outputs": [],
   "source": [
    "# Population size\n",
    "N=1000\n",
    "\n",
    "# Timesteps in days\n",
    "t_max = 180\n",
    "dt = 0.1\n",
    "t = np.linspace(0, t_max, int(t_max/dt) + 1)\n",
    "\n",
    "# SEIR Parameters\n",
    "# Rate at which E -> I\n",
    "alpha = 0.2\n",
    "# Infectiousness\n",
    "beta = 1\n",
    "# Rate at which I -> R\n",
    "gamma = 0.4\n",
    "rho = 1\n",
    "params = alpha, beta, gamma, rho\n",
    "\n",
    "rho = 0.8\n",
    "params_socdist = alpha, beta, gamma, rho"
   ]
  },
  {
   "cell_type": "code",
   "execution_count": 57,
   "metadata": {},
   "outputs": [],
   "source": [
    "# Initial Conditions\n",
    "S0=1 - 1/N\n",
    "E0=0\n",
    "I0=1/N\n",
    "R0=0\n",
    "\n",
    "# Run the simulation\n",
    "results = SEIR((S0,E0,I0,R0), params, t)\n",
    "results_socdist = SEIR((S0,E0,I0,R0), params_socdist, t)"
   ]
  },
  {
   "cell_type": "code",
   "execution_count": 58,
   "metadata": {},
   "outputs": [
    {
     "data": {
      "text/plain": [
       "Text(0, 0.5, 'population fraction')"
      ]
     },
     "execution_count": 58,
     "metadata": {},
     "output_type": "execute_result"
    },
    {
     "data": {
      "image/png": "[encoded data removed]",
      "text/plain": [
       "<Figure size 432x288 with 1 Axes>"
      ]
     },
     "metadata": {
      "needs_background": "light"
     },
     "output_type": "display_data"
    }
   ],
   "source": [
    "colors = {\n",
    "    'S':'#22223B',\n",
    "    'E':'#9FD356',\n",
    "    'I':'#F13030',\n",
    "    'R':'#FFA737'}\n",
    "\n",
    "# Set up the axes\n",
    "fig, ax = plt.subplots(nrows=1,ncols=1)\n",
    "S,E,I,R = results\n",
    "S,E_socdist,I_socdist,R = results_socdist\n",
    "# CODE TO PLOT GOES HERE.\n",
    "# ax.plot(t,S,label='S',color=colors['S'])\n",
    "ax.plot(t,E,label='E',color=colors['E'],linewidth=2)\n",
    "ax.plot(t,I,label='I',color=colors['I'],linewidth=2)\n",
    "\n",
    "ax.plot(t,E_socdist,label='E SD',color=colors['E'],linewidth=2,linestyle='--')\n",
    "ax.plot(t,I_socdist,label='I SD',color=colors['I'],linewidth=2,linestyle='--')\n",
    "# ax.plot(t,R,label='R',color=colors['R'])\n",
    "\n",
    "# Make the plot attractive\n",
    "ax.legend(loc='best')\n",
    "ax.set_xlim(left=0)\n",
    "ax.set_ylim(bottom=0)\n",
    "ax.set_xlabel('time (days)')\n",
    "ax.set_ylabel('population fraction')"
   ]
  },
  {
   "cell_type": "code",
   "execution_count": null,
   "metadata": {},
   "outputs": [],
   "source": []
  },
  {
   "cell_type": "markdown",
   "metadata": {},
   "source": [
    "Use the code above to explore a few questions:\n",
    "\n",
    "1. In the SIR model, we get an epidemic when $R_0=\\frac{\\beta}{\\gamma}$ is $>1$. Does that hold here or not? Conduct some numerical experiments to see whether you think this $R_0$ holds. \n",
    "\n",
    "2. With all other parameters fixed, what effect does changing $\\alpha$ have on the epidemic?  Explain this result in terms of what you know $\\alpha$ does. \n",
    "\n",
    "3. We know that social distancing is meant to \"flatten the curve\". How could social distancing be incorporated into this model?\n",
    "\n",
    "4. Suppose that hospital ICU beds will be totally taken up if more than 10% of the population is infectious at once. How much social distancing would be required if $\\alpha = 0.2$, $\\beta = 1$, and $\\gamma=0.4$?"
   ]
  },
  {
   "cell_type": "markdown",
   "metadata": {},
   "source": [
    "$$S \\to E$$"
   ]
  },
  {
   "cell_type": "markdown",
   "metadata": {},
   "source": [
    "Key determinants of $\\beta$:\n",
    "1. Rate of contact between $S$ and $I$ people.\n",
    "2. The probability that the disease spreads, per contact."
   ]
  },
  {
   "cell_type": "markdown",
   "metadata": {},
   "source": [
    "Introducing the social contact parameter: $\\rho$\n",
    "\n",
    "$\\rho=1$ is when we have typical contact patterns. \n",
    "\n",
    "$\\rho=<1$ social distancing.\n"
   ]
  },
  {
   "cell_type": "code",
   "execution_count": null,
   "metadata": {},
   "outputs": [],
   "source": []
  },
  {
   "cell_type": "code",
   "execution_count": null,
   "metadata": {},
   "outputs": [],
   "source": []
  },
  {
   "cell_type": "code",
   "execution_count": null,
   "metadata": {},
   "outputs": [],
   "source": []
  }
 ],
 "metadata": {
  "kernelspec": {
   "display_name": "Python 3",
   "language": "python",
   "name": "python3"
  },
  "language_info": {
   "codemirror_mode": {
    "name": "ipython",
    "version": 3
   },
   "file_extension": ".py",
   "mimetype": "text/x-python",
   "name": "python",
   "nbconvert_exporter": "python",
   "pygments_lexer": "ipython3",
   "version": "3.7.4"
  }
 },
 "nbformat": 4,
 "nbformat_minor": 4
}
